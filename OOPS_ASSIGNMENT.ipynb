{
  "nbformat": 4,
  "nbformat_minor": 0,
  "metadata": {
    "colab": {
      "provenance": []
    },
    "kernelspec": {
      "name": "python3",
      "display_name": "Python 3"
    },
    "language_info": {
      "name": "python"
    }
  },
  "cells": [
    {
      "cell_type": "markdown",
      "source": [
        "Question- 1 What are the five key concepts of Object-Oriented Programming (OOP)?\n",
        "Answer:- The five key concepts are-\n",
        "1.Class in Python\n",
        "2.Objects in Python\n",
        "3.Polymorphism in Python\n",
        "4.Encapsulation in Python\n",
        "5.Inheritance in Python"
      ],
      "metadata": {
        "id": "CrSL4SsG7U7Z"
      }
    },
    {
      "cell_type": "code",
      "source": [
        "# Question -2  Write a Python class for a `Car` with attributes for `make`, `model`, and `year`. Include a method to display the car's information.\n",
        "# Answer:-\n",
        "class Car:\n",
        "    def __init__(self, make, model, year):\n",
        "        self.make = make\n",
        "        self.model = model\n",
        "        self.year = year\n",
        "    def display_info(self):\n",
        "      return f\"Make: {self.make}, Model: {self.model}, Year: {self.year}\"\n",
        "my_car = Car('TATA', 'PUNCH', 2022)\n",
        "print(my_car.display_info())"
      ],
      "metadata": {
        "id": "wUbHfyFF87GT",
        "colab": {
          "base_uri": "https://localhost:8080/"
        },
        "outputId": "f2f86c4a-2afd-4b4f-e15f-c5ad738a9e99"
      },
      "execution_count": 5,
      "outputs": [
        {
          "output_type": "stream",
          "name": "stdout",
          "text": [
            "Make: TATA, Model: PUNCH, Year: 2022\n"
          ]
        }
      ]
    },
    {
      "cell_type": "code",
      "source": [
        "'''Question- 3 Explain the difference between instance methods and class methods. Provide an example of each.\n",
        "Answer:- Instance methods:- When creating an instance method, the first parameter is always self. You can name it anything you want, but the meaning will\n",
        "always be the same, and you should use self since it's the naming convention. self is (usually) passed hiddenly when calling an instance method;\n",
        "it represents the instance calling the method.'''\n",
        "class Person:\n",
        "\tdef __init__(self, name):\n",
        "\t\tself.name = name\n",
        "\tdef say_hi(self):\n",
        "\t\tprint('Hello, my name is', self.name)\n",
        "p = Person('Avaneesh')\n",
        "p.say_hi()\n",
        "\n"
      ],
      "metadata": {
        "colab": {
          "base_uri": "https://localhost:8080/"
        },
        "id": "YWhWG1D8Ij1n",
        "outputId": "6d8603a1-700c-4614-aa3b-2a375e873f32"
      },
      "execution_count": 11,
      "outputs": [
        {
          "output_type": "stream",
          "name": "stdout",
          "text": [
            "Hello, my name is Avaneesh\n"
          ]
        }
      ]
    },
    {
      "cell_type": "code",
      "source": [
        "''' Class methods:-\n",
        "The idea of a class method is very similar to an instance method, only difference being that instead of passing the instance hiddenly as a first parameter,\n",
        "we're now passing the class itself as a first parameter.'''\n",
        "class Student:\n",
        "    name = \"Pwskills\"\n",
        "    def print_name(obj):\n",
        "        print(\"The name is : \", obj.name)\n",
        "Student.print_name = classmethod(Student.print_name)\n",
        "Student.print_name()"
      ],
      "metadata": {
        "colab": {
          "base_uri": "https://localhost:8080/"
        },
        "id": "7X-AR5FUJ5nx",
        "outputId": "033d5538-67a4-4831-8676-4ae2d1f96a6a"
      },
      "execution_count": 10,
      "outputs": [
        {
          "output_type": "stream",
          "name": "stdout",
          "text": [
            "The name is :  Pwskills\n"
          ]
        }
      ]
    },
    {
      "cell_type": "code",
      "source": [
        "#Question - 4 How does Python implement method overloading? Give an example.\n",
        "#Answer:- Method Overloading:\n",
        "'''Two or more methods have the same name but different numbers of parameters\n",
        " or different types of parameters, or both. These methods are called overloaded\n",
        "  methods and this is called method overloading. '''\n",
        "def product(a, b):\n",
        "    p = a * b\n",
        "    print(p)\n",
        "def product(a, b, c):\n",
        "    p = a * b*c\n",
        "    print(p)\n",
        "product(4, 5, 5)\n"
      ],
      "metadata": {
        "id": "TJzDcxGDM7N2"
      },
      "execution_count": null,
      "outputs": []
    },
    {
      "cell_type": "code",
      "source": [
        "#Question-5  What are the three types of access modifiers in Python? How are they denoted?\n",
        "#Answer:-\n",
        "''' 1. Public access modifier\n",
        "2. Protected access modifier\n",
        "3. Private access\n",
        "Public: No restrictions (convention is to use single underscore, but it's not enforced)\n",
        "Protected: Preceded by single underscore (_) to indicate it's not part of the public API\n",
        "Private: Preceded by double underscore (__) for name mangling, not for strict privacy'''\n"
      ],
      "metadata": {
        "id": "kPz_XzAPOm9S"
      },
      "execution_count": null,
      "outputs": []
    },
    {
      "cell_type": "code",
      "source": [
        "'''Question-6  Describe the five types of inheritance in Python. Provide a simple example of multiple inheritance.\n",
        "Answer- Python supports five types of inheritance: single, multiple, multilevel, hierarchical, and hybrid.\n",
        "1. Single inheritance: When a class inherits from only one base class.\n",
        "class Parent:\n",
        "    pass\n",
        "\n",
        "class Child(Parent):\n",
        "    pass\n",
        "2. Multiple inheritance: When a class inherits from more than one base class.\n",
        "class Parent1:\n",
        "    pass\n",
        "\n",
        "class Parent2:\n",
        "    pass\n",
        "\n",
        "class Child(Parent1, Parent2):\n",
        "3. Multilevel inheritance: When a class inherits from a base class, which in turn inherits from another base class.\n",
        "class Grandparent:\n",
        "    pass\n",
        "\n",
        "class Parent(Grandparent):\n",
        "    pass\n",
        "\n",
        "class Child(Parent):\n",
        "4. Hierarchical inheritance: When multiple classes inherit from a single base class.\n",
        "class Parent:\n",
        "    pass\n",
        "\n",
        "class Child1(Parent):\n",
        "    pass\n",
        "\n",
        "class Child2(Parent):\n",
        "    pass\n",
        "5. Hybrid inheritance: A combination of two or more types of inheritance.\n",
        "class Grandparent:\n",
        "    pass\n",
        "\n",
        "class Parent(Grandparent):\n",
        "    pass\n",
        "\n",
        "class Child1(Parent):\n",
        "    pass\n",
        "\n",
        "class Child2(Parent):\n",
        "  '''"
      ],
      "metadata": {
        "id": "AurEDqlW-CLJ"
      },
      "execution_count": null,
      "outputs": []
    },
    {
      "cell_type": "code",
      "source": [
        "'''Queastion-7  What is the Method Resolution Order (MRO) in Python? How can you retrieve it programmatically?\n",
        "Answer:-\n",
        "Order of method search: MRO determines the order in which base classes are searched for methods.\n",
        "Inheritance: MRO is crucial in classes with multiple inheritance.\n",
        "Linearization: MRO is also known as linearization of a class.\n",
        "Rules: A set of rules defines MRO.\n",
        "Purpose: MRO helps resolve method calls in inherited classes.\n",
        "Programmatic Access: MRO can be retrieved programmatically\n",
        "using the mro() method or the __mro__ attribute.'''\n",
        "\n",
        "class A:\n",
        "    def method(self):\n",
        "        print(\"A's method\")\n",
        "\n",
        "class B(A):\n",
        "    def method(self):\n",
        "        print(\"B's method\")\n",
        "\n",
        "class C(A):\n",
        "    def method(self):\n",
        "        print(\"C's method\")\n",
        "\n",
        "class D(B, C):\n",
        "    pass\n",
        "\n",
        "d = D()\n",
        "d.method()\n"
      ],
      "metadata": {
        "colab": {
          "base_uri": "https://localhost:8080/"
        },
        "id": "68A8jdFd_-Hi",
        "outputId": "46184a07-8bb9-4c4f-8892-a08b3478e1a9"
      },
      "execution_count": 3,
      "outputs": [
        {
          "output_type": "stream",
          "name": "stdout",
          "text": [
            "B's method\n"
          ]
        }
      ]
    },
    {
      "cell_type": "code",
      "source": [
        "'''Question- 8  Create an abstract base class `Shape` with an abstract method `area()`. Then create two subclasses\n",
        "`Circle` and `Rectangle` that implement the `area()` method.\n",
        "Answer:- '''\n",
        "from abc import ABC, abstractmethod\n",
        "\n",
        "class Shape(ABC):\n",
        "    @abstractmethod\n",
        "    def area(self):\n",
        "        pass\n",
        "\n",
        "class Circle(Shape):\n",
        "    def __init__(self, radius):\n",
        "        self.radius = radius\n",
        "\n",
        "    def area(self):\n",
        "        return 3.14159 * self.radius ** 2\n",
        "\n",
        "class Rectangle(Shape):\n",
        "    def __init__(self, length, width):\n",
        "        self.length = length\n",
        "        self.width = width\n",
        "\n",
        "    def area(self):\n",
        "        return self.length * self.width\n",
        "\n",
        "# Example usage\n",
        "circle = Circle(7)\n",
        "rectangle = Rectangle(5, 4)\n",
        "\n",
        "print(circle.area())  # Output: 153.93791\n",
        "print(rectangle.area())  # Output: 20"
      ],
      "metadata": {
        "colab": {
          "base_uri": "https://localhost:8080/"
        },
        "id": "dAWQhgPYC67q",
        "outputId": "633fffa6-f937-424a-ce42-4a6a3a7bd29c"
      },
      "execution_count": 18,
      "outputs": [
        {
          "output_type": "stream",
          "name": "stdout",
          "text": [
            "153.93791\n",
            "20\n"
          ]
        }
      ]
    },
    {
      "cell_type": "code",
      "source": [
        "'''Question -9 Demonstrate polymorphism by creating a function that can work with different shape objects to calculate\n",
        "and print their areas.\n",
        "Answer:- '''\n",
        "def calculate_area(shape):\n",
        "    print(shape.area())\n",
        "\n",
        "# Create objects of different shapes\n",
        "circle = Circle(7)\n",
        "rectangle = Rectangle(5, 4)\n",
        "\n",
        "# Call the function with different shape objects\n",
        "calculate_area(circle)  # Output: 153.93791\n",
        "calculate_area(rectangle)  # Output: 20"
      ],
      "metadata": {
        "colab": {
          "base_uri": "https://localhost:8080/"
        },
        "id": "Dd-MsW3VFYFt",
        "outputId": "4d326fc3-5d91-45f1-a4af-60a40b450bfc"
      },
      "execution_count": 20,
      "outputs": [
        {
          "output_type": "stream",
          "name": "stdout",
          "text": [
            "153.93791\n",
            "20\n"
          ]
        }
      ]
    },
    {
      "cell_type": "code",
      "source": [
        "'''Question- 10 Implement encapsulation in a `BankAccount` class with private attributes for `balance` and\n",
        "`account_number`. Include methods for deposit, withdrawal, and balance inquiry.\n",
        "Answer:-'''\n",
        "class BankAccount:\n",
        "    def __init__(self, account_number, initial_balance):\n",
        "        self.__account_number = account_number\n",
        "        self.__balance = initial_balance\n",
        "\n",
        "    def deposit(self, amount):\n",
        "        if amount > 0:\n",
        "            self.__balance += amount\n",
        "            print(f\"Deposited {amount}. New balance: {self.__balance}\")\n",
        "        else:\n",
        "            print(\"Invalid deposit amount.\")\n",
        "\n",
        "    def withdraw(self, amount):\n",
        "        if amount > 0 and amount <= self.__balance:\n",
        "            self.__balance -= amount\n",
        "            print(f\"Withdrew {amount}. New balance: {self.__balance}\")\n",
        "        else:\n",
        "            print(\"Invalid withdrawal amount or insufficient funds.\")\n",
        "\n",
        "    def get_balance(self):\n",
        "        return self.__balance\n",
        "\n",
        "# Example usage\n",
        "account = BankAccount(\"1234567890\", 10000)\n",
        "\n",
        "account.deposit(700)\n",
        "account.withdraw(300)\n",
        "print(account.get_balance())  # Output: 10400"
      ],
      "metadata": {
        "colab": {
          "base_uri": "https://localhost:8080/"
        },
        "id": "IGRaOGXVGKJd",
        "outputId": "89fe5a58-bb79-40c2-f558-433b6abe718f"
      },
      "execution_count": 21,
      "outputs": [
        {
          "output_type": "stream",
          "name": "stdout",
          "text": [
            "Deposited 700. New balance: 10700\n",
            "Withdrew 300. New balance: 10400\n",
            "10400\n"
          ]
        }
      ]
    },
    {
      "cell_type": "code",
      "source": [
        "'''Question- 11 Write a class that overrides the `__str__` and `__add__` magic methods. What will these methods allow\n",
        "you to do?\n",
        "Answer:-\n",
        "'''\n",
        "class MyClass:\n",
        "    def __init__(self, value):\n",
        "        self.value = value\n",
        "\n",
        "    def __str__(self):\n",
        "        return f\"MyClass object with value: {self.value}\"\n",
        "\n",
        "    def __add__(self, other):\n",
        "        return MyClass(self.value + other.value)\n",
        "\n",
        "# Example usage\n",
        "obj1 = MyClass(20)\n",
        "obj2 = MyClass(30)\n",
        "\n",
        "print(obj1)  # Output: MyClass object with value: 20\n",
        "print(obj1 + obj2)  # Output: MyClass object with value: 50\n"
      ],
      "metadata": {
        "colab": {
          "base_uri": "https://localhost:8080/"
        },
        "id": "LGTpZ14gGxXv",
        "outputId": "badbc8b1-3b0c-4795-d7d1-15508f370db6"
      },
      "execution_count": 22,
      "outputs": [
        {
          "output_type": "stream",
          "name": "stdout",
          "text": [
            "MyClass object with value: 20\n",
            "MyClass object with value: 50\n"
          ]
        }
      ]
    },
    {
      "cell_type": "code",
      "source": [
        "'''Question -12 Create a decorator that measures and prints the execution time of a function.\n",
        "Answer:- '''\n",
        "import time\n",
        "\n",
        "def measure_time(func):\n",
        "    def wrapper(*args, **kwargs):\n",
        "        start_time = time.time()\n",
        "        result = func(*args, **kwargs)\n",
        "        end_time = time.time()\n",
        "        execution_time = end_time - start_time\n",
        "        print(f\"{func.__name__} took {execution_time:.5f} seconds\")\n",
        "        return result\n",
        "    return wrapper\n",
        "\n",
        "# Example usage\n",
        "@measure_time\n",
        "def my_function(n):\n",
        "    sum = 0\n",
        "    for i in range(n):\n",
        "        sum += i\n",
        "    return sum\n",
        "\n",
        "result = my_function(1000000)\n",
        "print(result)"
      ],
      "metadata": {
        "colab": {
          "base_uri": "https://localhost:8080/"
        },
        "id": "8jn6sxb7HgBv",
        "outputId": "35580f97-fcfc-4711-fb6e-242a222f5011"
      },
      "execution_count": 23,
      "outputs": [
        {
          "output_type": "stream",
          "name": "stdout",
          "text": [
            "my_function took 0.06472 seconds\n",
            "499999500000\n"
          ]
        }
      ]
    },
    {
      "cell_type": "code",
      "source": [
        "'''Question- 13  Explain the concept of the Diamond Problem in multiple inheritance. How does Python resolve it?\n",
        "Answer:-\n",
        "The Diamond Problem occurs in multiple inheritance when a class inherits\n",
        "from two or more classes that have a common ancestor. This creates a\n",
        "diamond-shaped hierarchy, where the child class inherits the same attribute or\n",
        "method from multiple parents. This can lead to ambiguity and conflicts when\n",
        "trying to access the attribute or method.'''\n",
        "class A:\n",
        "    def method(self):\n",
        "        print(\"A\")\n",
        "\n",
        "class B(A):\n",
        "    pass\n",
        "\n",
        "class C(A):\n",
        "    pass\n",
        "\n",
        "class D(B, C):\n",
        "    pass"
      ],
      "metadata": {
        "id": "f9GBv-pbH_kf"
      },
      "execution_count": 24,
      "outputs": []
    },
    {
      "cell_type": "code",
      "source": [
        "'''Question- 14 Write a class method that keeps track of the number of instances created from a class.\n",
        "Answer:- '''\n",
        "class MyClass:\n",
        "    count = 0\n",
        "\n",
        "    def __init__(self):\n",
        "        MyClass.count += 1\n",
        "\n",
        "    @classmethod\n",
        "    def get_instance_count(cls):\n",
        "        return cls.count\n",
        "\n",
        "# Example usage\n",
        "obj1 = MyClass()\n",
        "obj2 = MyClass()\n",
        "obj3 = MyClass()\n",
        "\n",
        "print(MyClass.get_instance_count())  # Output: 3"
      ],
      "metadata": {
        "id": "5BBoQwuHIlkW"
      },
      "execution_count": null,
      "outputs": []
    }
  ]
}